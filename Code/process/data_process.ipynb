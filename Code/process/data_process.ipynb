{
 "cells": [
  {
   "cell_type": "code",
   "execution_count": 1,
   "metadata": {},
   "outputs": [],
   "source": [
    "import os\n",
    "import pandas as pd\n",
    "import numpy as np\n",
    "import re\n",
    "import math"
   ]
  },
  {
   "cell_type": "code",
   "execution_count": null,
   "metadata": {},
   "outputs": [],
   "source": []
  },
  {
   "cell_type": "code",
   "execution_count": null,
   "metadata": {},
   "outputs": [
    {
     "name": "stdout",
     "output_type": "stream",
     "text": [
      "user: 0 10_M.txt     key: 2\n",
      "user: 1 11_F.txt     key: 1538\n",
      "user: 2 12_M.txt     key: 3664\n",
      "user: 3 13_F.txt     key: 10713\n",
      "user: 4 14_F.txt     key: 11105\n",
      "user: 5 15_F.txt     key: 11286\n",
      "user: 6 16_F.txt     key: 21371\n",
      "user: 7 17_F.txt     key: 21867\n",
      "user: 8 18_F.txt     key: 30817\n",
      "user: 9 19_F.txt     key: 43713\n",
      "user: 10 1_M.txt     key: 45200\n",
      "user: 11 20_M.txt     key: 45304\n",
      "user: 12 21_F.txt     key: 48300\n",
      "user: 13 22_M.txt     key: 48975\n",
      "user: 14 23_F.txt     key: 53683\n",
      "user: 15 24_F.txt     key: 75924\n",
      "user: 16 25_F.txt     key: 75969\n",
      "user: 17 26_F.txt     key: 76099\n",
      "user: 18 27_F.txt     key: 79391\n",
      "user: 19 28_F.txt     key: 93367\n",
      "user: 20 29_F.txt     key: 95896\n",
      "user: 21 2_F.txt     key: 97313\n",
      "user: 22 30_F.txt     key: 97655\n",
      "user: 23 31_F.txt     key: 100929\n",
      "user: 24 33_F.txt     key: 121518\n"
     ]
    }
   ],
   "source": [
    "#查看所有人的地点数\n",
    "#\n",
    "\n",
    "\n",
    "####main\n",
    "read_dir = 'F:\\\\DeepLearning\\\\DataSet\\\\mobile_data\\\\process\\\\data_process1\\\\data_5BSSID'\n",
    "    \n",
    "user_list = os.listdir(read_dir)\n",
    "\n",
    "BSSID_dict=dict()\n",
    "key=0\n",
    "temp_key=0\n",
    "temp_set=set()\n",
    "flag=0\n",
    "\n",
    "for user in user_list:\n",
    "    # 加载数据\n",
    "    user_data=pd.DataFrame()\n",
    "    data=pd.DataFrame()\n",
    "    #user_data = pd.read_csv(os.path.join(read_dir, user))\n",
    "    data=pd.read_csv(os.path.join(read_dir, user))\n",
    "    #删除BSSID为空值所在的行\n",
    "    #data.dropna(axis=0,how='any',subset=['BSSID'],inplace = True)\n",
    "    #data=data.reset_index(drop=True) \n",
    "    \n",
    "    #处理BSSID，建立BSSID字典\n",
    "    user_BSSID=data['BSSID'].values.tolist()    \n",
    "    for bid in user_BSSID:\n",
    "        bid_set=set(bid.split(',') )\n",
    "        if len(BSSID_dict)==0:\n",
    "            BSSID_dict[key]=bid_set\n",
    "            key+=1\n",
    "            continue\n",
    "        temp_key=0\n",
    "        temp_set=set()\n",
    "        for set_i in BSSID_dict.values():\n",
    "            if set_i.issubset(bid_set) or bid_set.issubset(set_i):\n",
    "                if set_i.issubset(bid_set):\n",
    "                    temp_set=bid_set\n",
    "                elif bid_set.issubset(set_i):\n",
    "                    temp_set=set_i\n",
    "                flag=1\n",
    "                temp_key=list(BSSID_dict.values()).index(set_i)\n",
    "            else:\n",
    "                flag=2\n",
    "        if flag==1:\n",
    "            #选择覆盖范围大的BSSID\n",
    "            BSSID_dict[temp_key]=temp_set\n",
    "        elif flag==2:\n",
    "            BSSID_dict[key]=bid_set\n",
    "            key+=1\n",
    "        #字典不能在遍历时修改\n",
    "        \n",
    "    print('user:',user_list.index(user),user,'    key:',key)\n"
   ]
  },
  {
   "cell_type": "code",
   "execution_count": null,
   "metadata": {},
   "outputs": [],
   "source": [
    "#保存字典\n",
    "import pickle\n",
    "dict_save = open('F:\\\\DeepLearning\\\\DataSet\\\\mobile_data\\\\process\\\\data_process2\\\\BSSID_dict.pkl', 'wb')\n",
    "pickle.dump(BSSID_dict, dict_save)\n",
    "dict_save.close()\n",
    " \n",
    "# # 读取\n",
    "dict_read = open('F:\\\\DeepLearning\\\\DataSet\\\\mobile_data\\\\process\\\\data_process2\\\\BSSID_dict.pkl', 'rb')\n",
    "dict2 = pickle.load(dict_read)\n",
    "print(dict2)\n",
    "dict_read.close()"
   ]
  }
 ],
 "metadata": {
  "kernelspec": {
   "display_name": "Python [conda env:tensorflow]",
   "language": "python",
   "name": "conda-env-tensorflow-py"
  },
  "language_info": {
   "codemirror_mode": {
    "name": "ipython",
    "version": 3
   },
   "file_extension": ".py",
   "mimetype": "text/x-python",
   "name": "python",
   "nbconvert_exporter": "python",
   "pygments_lexer": "ipython3",
   "version": "3.7.9"
  }
 },
 "nbformat": 4,
 "nbformat_minor": 2
}
