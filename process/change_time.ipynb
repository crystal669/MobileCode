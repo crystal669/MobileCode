{
 "cells": [
  {
   "cell_type": "code",
   "execution_count": 16,
   "metadata": {},
   "outputs": [],
   "source": [
    "import os\n",
    "import pandas as pd\n",
    "import numpy as np\n",
    "import re\n",
    "import math\n",
    "import datetime"
   ]
  },
  {
   "cell_type": "code",
   "execution_count": 31,
   "metadata": {},
   "outputs": [
    {
     "name": "stdout",
     "output_type": "stream",
     "text": [
      "save successfully!\n"
     ]
    }
   ],
   "source": [
    "read_dir='F:\\\\DesktopFile\\\\mobile_location_paper\\\\dataset\\\\raw\\\\StarMlog\\\\data'\n",
    "save_dir='F:\\\\DesktopFile\\\\mobile_location_paper\\\\dataset\\\\raw\\\\StarMlog\\\\raw_data'\n",
    "\n",
    "if not os.path.exists(save_dir):\n",
    "    os.makedirs(save_dir)\n",
    "    \n",
    "info_list= os.listdir(read_dir)\n",
    "i=0\n",
    "for info in info_list:\n",
    "    if i==1:\n",
    "        break\n",
    "    date=re.search('(\\d+)-(\\d+)',info).group(0)\n",
    "    month=re.search('(\\d+)-(\\d+)',info).group(1)\n",
    "    day=re.search('(\\d+)-(\\d+)',info).group(2)\n",
    "    \n",
    "    data=pd.DataFrame()\n",
    "    data = pd.read_csv(os.path.join(read_dir, info), encoding='unicode_escape')\n",
    "    for i,row in data.iterrows():\n",
    "        real_hour=row['create_time'].partition(' ')[2]\n",
    "        if len(real_hour)<=5:\n",
    "            real_hour=real_hour+':00'\n",
    "        time='2021'+'-'+date+' '+real_hour\n",
    "        new_time=new_timea = datetime.datetime.strptime(time, '%Y-%m-%d %H:%M:%S')\n",
    "        #string_time=str(new_time)\n",
    "        #if len(string_time)==19:\n",
    "            #print('hhhh')\n",
    "        data.loc[i,'create_time']=new_time\n",
    "    #print(data['create_time'])   \n",
    "    #保存修改后的数据\n",
    "    data.to_csv(os.path.join(save_dir,info),index=False)\n",
    "    i+=1 \n",
    "print('save successfully!')"
   ]
  },
  {
   "cell_type": "code",
   "execution_count": null,
   "metadata": {},
   "outputs": [],
   "source": []
  }
 ],
 "metadata": {
  "kernelspec": {
   "display_name": "Python [conda env:py36]",
   "language": "python",
   "name": "conda-env-py36-py"
  },
  "language_info": {
   "codemirror_mode": {
    "name": "ipython",
    "version": 3
   },
   "file_extension": ".py",
   "mimetype": "text/x-python",
   "name": "python",
   "nbconvert_exporter": "python",
   "pygments_lexer": "ipython3",
   "version": "3.6.12"
  }
 },
 "nbformat": 4,
 "nbformat_minor": 4
}
